{
 "cells": [
  {
   "cell_type": "code",
   "execution_count": 1,
   "id": "204bc2d6",
   "metadata": {},
   "outputs": [
    {
     "name": "stdout",
     "output_type": "stream",
     "text": [
      "pakistan\n"
     ]
    }
   ],
   "source": [
    "print(\"pakistan\")"
   ]
  },
  {
   "cell_type": "code",
   "execution_count": 1,
   "id": "ba85f956",
   "metadata": {},
   "outputs": [
    {
     "name": "stdout",
     "output_type": "stream",
     "text": [
      "Testing evnironment setup\n"
     ]
    }
   ],
   "source": [
    "print(\"Testing evnironment setup\")"
   ]
  },
  {
   "cell_type": "code",
   "execution_count": null,
   "id": "09d77bd1",
   "metadata": {},
   "outputs": [],
   "source": []
  }
 ],
 "metadata": {
  "kernelspec": {
   "display_name": "python_ml",
   "language": "python",
   "name": "python3"
  },
  "language_info": {
   "codemirror_mode": {
    "name": "ipython",
    "version": 3
   },
   "file_extension": ".py",
   "mimetype": "text/x-python",
   "name": "python",
   "nbconvert_exporter": "python",
   "pygments_lexer": "ipython3",
   "version": "3.11.11"
  }
 },
 "nbformat": 4,
 "nbformat_minor": 5
}
