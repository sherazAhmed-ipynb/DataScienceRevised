{
 "cells": [
  {
   "cell_type": "markdown",
   "id": "f93c03a4",
   "metadata": {},
   "source": [
    "# **<center><span style= \"color:#566D7E;\">All About Seaborn</span></center>**"
   ]
  },
  {
   "cell_type": "markdown",
   "id": "b28a2b30",
   "metadata": {},
   "source": [
    "## ***<span style= \"color:maroon;\">Content </span>***\n",
    "- ***`Imports`*** \n",
    "- **`Multidimensional arrays`** \n",
    "- **`Slicing`**\n",
    "- **`Arithmetic function`**\n",
    "- **`Numpy Broadcasting`**\n",
    "- **`Aggregate functions`**\n",
    "- **`Filtering in Numpy`**\n",
    "- **`Random numbers in Numpy`**"
   ]
  },
  {
   "cell_type": "markdown",
   "id": "8d690b78",
   "metadata": {},
   "source": [
    "## ***<span style= \"color:purple;\">Imports </span>***"
   ]
  },
  {
   "cell_type": "code",
   "execution_count": null,
   "id": "332bf362",
   "metadata": {},
   "outputs": [],
   "source": []
  },
  {
   "cell_type": "markdown",
   "id": "de53dea6",
   "metadata": {},
   "source": [
    "## ***<span style= \"color:#EE9A4D;\">Plt functions </span>***"
   ]
  }
 ],
 "metadata": {
  "kernelspec": {
   "display_name": "python_ml",
   "language": "python",
   "name": "python3"
  },
  "language_info": {
   "codemirror_mode": {
    "name": "ipython",
    "version": 3
   },
   "file_extension": ".py",
   "mimetype": "text/x-python",
   "name": "python",
   "nbconvert_exporter": "python",
   "pygments_lexer": "ipython3",
   "version": "3.11.11"
  }
 },
 "nbformat": 4,
 "nbformat_minor": 5
}
