{
 "cells": [
  {
   "cell_type": "markdown",
   "id": "d740b16e",
   "metadata": {},
   "source": [
    "# **<center><span style= \"color:#800080;\">All About Pandas</span></center>**"
   ]
  },
  {
   "cell_type": "markdown",
   "id": "a382e0d2",
   "metadata": {},
   "source": [
    "## ***<span style= \"color:maroon;\">Content </span>***\n",
    "- **`Imports`** \n",
    "- **`Series in Pandas`** \n",
    "- **`DataFrames in Pandas`**\n",
    "- **`Import files in Pandas`**\n",
    "- **`Selection in Pandas`**\n",
    "- **`Filtering in Pandas`**\n",
    "- **`Aggregation in Pandas`**\n",
    "- **`Data cleaning `**"
   ]
  },
  {
   "cell_type": "markdown",
   "id": "4bc1fd7f",
   "metadata": {},
   "source": [
    "## ***<span style= \"color:purple;\">Imports </span>***"
   ]
  },
  {
   "cell_type": "code",
   "execution_count": 1,
   "id": "1038e7aa",
   "metadata": {},
   "outputs": [],
   "source": [
    "import numpy as np\n",
    "import pandas as pd"
   ]
  },
  {
   "cell_type": "markdown",
   "id": "58d2e7ea",
   "metadata": {},
   "source": [
    "## ***<span style= \"color:#6AA121;\">Series in Pandas </span>***"
   ]
  },
  {
   "cell_type": "code",
   "execution_count": 5,
   "id": "2505378b",
   "metadata": {},
   "outputs": [
    {
     "name": "stdout",
     "output_type": "stream",
     "text": [
      "0    100\n",
      "1    102\n",
      "2    104\n",
      "dtype: int64\n"
     ]
    }
   ],
   "source": [
    "# Series in Pandas\n",
    "data = [100,102,104]\n",
    "series = pd.Series(data)\n",
    "print(series)"
   ]
  },
  {
   "cell_type": "markdown",
   "id": "e5b6d0e8",
   "metadata": {},
   "source": [
    "## ***<span style= \"color:#6AA121;\">Dataframes in Pandas </span>***"
   ]
  },
  {
   "cell_type": "code",
   "execution_count": null,
   "id": "053e3370",
   "metadata": {},
   "outputs": [],
   "source": []
  },
  {
   "cell_type": "markdown",
   "id": "2439bb47",
   "metadata": {},
   "source": [
    "## ***<span style= \"color:#6AA121;\">Import files in Pandas </span>***"
   ]
  },
  {
   "cell_type": "code",
   "execution_count": null,
   "id": "37089f68",
   "metadata": {},
   "outputs": [],
   "source": []
  },
  {
   "cell_type": "markdown",
   "id": "43de5f5f",
   "metadata": {},
   "source": [
    "## ***<span style= \"color:#6AA121;\">Selection in Pandas </span>***"
   ]
  },
  {
   "cell_type": "code",
   "execution_count": null,
   "id": "da0b99e8",
   "metadata": {},
   "outputs": [],
   "source": []
  },
  {
   "cell_type": "markdown",
   "id": "8a1c526a",
   "metadata": {},
   "source": [
    "## ***<span style= \"color:#6AA121;\">Filtering in Pandas </span>***"
   ]
  },
  {
   "cell_type": "code",
   "execution_count": null,
   "id": "715aa60c",
   "metadata": {},
   "outputs": [],
   "source": []
  },
  {
   "cell_type": "markdown",
   "id": "4ce47ce9",
   "metadata": {},
   "source": [
    "## ***<span style= \"color:#6AA121;\">Aggregation in Pandas </span>***"
   ]
  },
  {
   "cell_type": "code",
   "execution_count": null,
   "id": "29a0cee7",
   "metadata": {},
   "outputs": [],
   "source": []
  },
  {
   "cell_type": "markdown",
   "id": "97f5d061",
   "metadata": {},
   "source": [
    "## ***<span style= \"color:#6AA121;\">Data cleaning in Pandas </span>***"
   ]
  },
  {
   "cell_type": "code",
   "execution_count": null,
   "id": "0c3608dc",
   "metadata": {},
   "outputs": [],
   "source": []
  }
 ],
 "metadata": {
  "kernelspec": {
   "display_name": "python_ml",
   "language": "python",
   "name": "python3"
  },
  "language_info": {
   "codemirror_mode": {
    "name": "ipython",
    "version": 3
   },
   "file_extension": ".py",
   "mimetype": "text/x-python",
   "name": "python",
   "nbconvert_exporter": "python",
   "pygments_lexer": "ipython3",
   "version": "3.11.11"
  }
 },
 "nbformat": 4,
 "nbformat_minor": 5
}
