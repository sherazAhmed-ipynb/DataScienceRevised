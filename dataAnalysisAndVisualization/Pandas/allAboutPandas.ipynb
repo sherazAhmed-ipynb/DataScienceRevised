{
 "cells": [
  {
   "cell_type": "markdown",
   "id": "d740b16e",
   "metadata": {},
   "source": [
    "# **<center><span style= \"color:#800080;\">All About Pandas</span></center>**"
   ]
  },
  {
   "cell_type": "markdown",
   "id": "a382e0d2",
   "metadata": {},
   "source": [
    "## ***<span style= \"color:maroon;\">Content </span>***\n",
    "- **`Imports`** \n",
    "- **`Series in Pandas`** \n",
    "- **`DataFrames in Pandas`**\n",
    "- **`Import files in Pandas`**\n",
    "- **`Selection in Pandas`**\n",
    "- **`Filtering in Pandas`**\n",
    "- **`Aggregation in Pandas`**\n",
    "- **`Data cleaning `**"
   ]
  },
  {
   "cell_type": "markdown",
   "id": "4bc1fd7f",
   "metadata": {},
   "source": [
    "## ***<span style= \"color:purple;\">Imports </span>***"
   ]
  },
  {
   "cell_type": "code",
   "execution_count": 1,
   "id": "1038e7aa",
   "metadata": {},
   "outputs": [],
   "source": [
    "import numpy as np\n",
    "import pandas as pd"
   ]
  },
  {
   "cell_type": "markdown",
   "id": "58d2e7ea",
   "metadata": {},
   "source": [
    "## ***<span style= \"color:#6AA121;\">Series in Pandas </span>***"
   ]
  },
  {
   "cell_type": "code",
   "execution_count": 11,
   "id": "2505378b",
   "metadata": {},
   "outputs": [
    {
     "name": "stdout",
     "output_type": "stream",
     "text": [
      "0    100\n",
      "1    102\n",
      "2    104\n",
      "dtype: int64\n",
      "1    a\n",
      "2    b\n",
      "3    c\n",
      "4    d\n",
      "dtype: object\n",
      "0     2\n",
      "1    15\n",
      "2    13\n",
      "3     9\n",
      "4     9\n",
      "5    17\n",
      "6     2\n",
      "7    14\n",
      "8     4\n",
      "9     2\n",
      "dtype: int64\n",
      "<class 'pandas.core.series.Series'>\n"
     ]
    }
   ],
   "source": [
    "# Series in Pandas\n",
    "data1 = [100,102,104]\n",
    "series = pd.Series(data1)\n",
    "print(series)\n",
    "\n",
    "list1 = ['a','b','c','d']\n",
    "labels = [1,2,3,4]\n",
    "series2 = pd.Series(data=list1, index=labels)\n",
    "print(series2)\n",
    "\n",
    "# Series with numpy\n",
    "rng = np.random.default_rng(42)\n",
    "data2 = rng.integers(1,20, size=10)\n",
    "series3 = pd.Series(data2)\n",
    "print(series3)\n",
    "print(type(series3))"
   ]
  },
  {
   "cell_type": "markdown",
   "id": "e5b6d0e8",
   "metadata": {},
   "source": [
    "## ***<span style= \"color:#6AA121;\">Dataframes in Pandas </span>***"
   ]
  },
  {
   "cell_type": "code",
   "execution_count": 12,
   "id": "053e3370",
   "metadata": {},
   "outputs": [
    {
     "name": "stdout",
     "output_type": "stream",
     "text": [
      "   one  two  three\n",
      "A   31   49     39\n",
      "B   40   38     41\n",
      "<class 'pandas.core.frame.DataFrame'>\n"
     ]
    }
   ],
   "source": [
    "# Dataframes in Pnadas\n",
    "df_data = rng.integers(10,50, size=(2,3))\n",
    "df_1 = pd.DataFrame(data=df_data, index=['A','B'], columns=['one', 'two','three'])\n",
    "print(df_1)\n",
    "print(type(df_1))"
   ]
  },
  {
   "cell_type": "markdown",
   "id": "2439bb47",
   "metadata": {},
   "source": [
    "## ***<span style= \"color:#6AA121;\">Editing and retrieving data </span>***"
   ]
  },
  {
   "cell_type": "code",
   "execution_count": 14,
   "id": "37089f68",
   "metadata": {},
   "outputs": [
    {
     "name": "stdout",
     "output_type": "stream",
     "text": [
      "   one  two  three\n",
      "A   31   49     39\n",
      "B   40   38     41\n"
     ]
    },
    {
     "data": {
      "text/html": [
       "<div>\n",
       "<style scoped>\n",
       "    .dataframe tbody tr th:only-of-type {\n",
       "        vertical-align: middle;\n",
       "    }\n",
       "\n",
       "    .dataframe tbody tr th {\n",
       "        vertical-align: top;\n",
       "    }\n",
       "\n",
       "    .dataframe thead th {\n",
       "        text-align: right;\n",
       "    }\n",
       "</style>\n",
       "<table border=\"1\" class=\"dataframe\">\n",
       "  <thead>\n",
       "    <tr style=\"text-align: right;\">\n",
       "      <th></th>\n",
       "      <th>one</th>\n",
       "      <th>two</th>\n",
       "    </tr>\n",
       "  </thead>\n",
       "  <tbody>\n",
       "    <tr>\n",
       "      <th>A</th>\n",
       "      <td>31</td>\n",
       "      <td>49</td>\n",
       "    </tr>\n",
       "    <tr>\n",
       "      <th>B</th>\n",
       "      <td>40</td>\n",
       "      <td>38</td>\n",
       "    </tr>\n",
       "  </tbody>\n",
       "</table>\n",
       "</div>"
      ],
      "text/plain": [
       "   one  two\n",
       "A   31   49\n",
       "B   40   38"
      ]
     },
     "execution_count": 14,
     "metadata": {},
     "output_type": "execute_result"
    }
   ],
   "source": [
    "# editing and retrieving data \n",
    "print(df_1)\n",
    "df_1[['one','two']]"
   ]
  },
  {
   "cell_type": "code",
   "execution_count": null,
   "id": "d6816177",
   "metadata": {},
   "outputs": [
    {
     "data": {
      "text/plain": [
       "one      31\n",
       "two      49\n",
       "three    39\n",
       "Name: A, dtype: int64"
      ]
     },
     "execution_count": 15,
     "metadata": {},
     "output_type": "execute_result"
    }
   ],
   "source": [
    "# retirieving a row as series\n",
    "# here loc method means label based indexing\n",
    "df_1.loc['A']"
   ]
  },
  {
   "cell_type": "code",
   "execution_count": 16,
   "id": "049409a7",
   "metadata": {},
   "outputs": [
    {
     "data": {
      "text/html": [
       "<div>\n",
       "<style scoped>\n",
       "    .dataframe tbody tr th:only-of-type {\n",
       "        vertical-align: middle;\n",
       "    }\n",
       "\n",
       "    .dataframe tbody tr th {\n",
       "        vertical-align: top;\n",
       "    }\n",
       "\n",
       "    .dataframe thead th {\n",
       "        text-align: right;\n",
       "    }\n",
       "</style>\n",
       "<table border=\"1\" class=\"dataframe\">\n",
       "  <thead>\n",
       "    <tr style=\"text-align: right;\">\n",
       "      <th></th>\n",
       "      <th>one</th>\n",
       "      <th>two</th>\n",
       "      <th>three</th>\n",
       "    </tr>\n",
       "  </thead>\n",
       "  <tbody>\n",
       "    <tr>\n",
       "      <th>A</th>\n",
       "      <td>31</td>\n",
       "      <td>49</td>\n",
       "      <td>39</td>\n",
       "    </tr>\n",
       "  </tbody>\n",
       "</table>\n",
       "</div>"
      ],
      "text/plain": [
       "   one  two  three\n",
       "A   31   49     39"
      ]
     },
     "execution_count": 16,
     "metadata": {},
     "output_type": "execute_result"
    }
   ],
   "source": [
    "# retrieving a row as dataframe\n",
    "df_1.loc[['A']]"
   ]
  },
  {
   "cell_type": "code",
   "execution_count": null,
   "id": "230f58c4",
   "metadata": {},
   "outputs": [
    {
     "name": "stdout",
     "output_type": "stream",
     "text": [
      "one      31\n",
      "two      49\n",
      "three    39\n",
      "Name: A, dtype: int64\n"
     ]
    },
    {
     "data": {
      "text/html": [
       "<div>\n",
       "<style scoped>\n",
       "    .dataframe tbody tr th:only-of-type {\n",
       "        vertical-align: middle;\n",
       "    }\n",
       "\n",
       "    .dataframe tbody tr th {\n",
       "        vertical-align: top;\n",
       "    }\n",
       "\n",
       "    .dataframe thead th {\n",
       "        text-align: right;\n",
       "    }\n",
       "</style>\n",
       "<table border=\"1\" class=\"dataframe\">\n",
       "  <thead>\n",
       "    <tr style=\"text-align: right;\">\n",
       "      <th></th>\n",
       "      <th>one</th>\n",
       "      <th>two</th>\n",
       "      <th>three</th>\n",
       "    </tr>\n",
       "  </thead>\n",
       "  <tbody>\n",
       "    <tr>\n",
       "      <th>A</th>\n",
       "      <td>31</td>\n",
       "      <td>49</td>\n",
       "      <td>39</td>\n",
       "    </tr>\n",
       "  </tbody>\n",
       "</table>\n",
       "</div>"
      ],
      "text/plain": [
       "   one  two  three\n",
       "A   31   49     39"
      ]
     },
     "execution_count": 21,
     "metadata": {},
     "output_type": "execute_result"
    }
   ],
   "source": [
    "# here iloc means interger based indexing\n",
    "print(df_1.iloc[0])\n",
    "df_1.iloc[[0]]"
   ]
  },
  {
   "cell_type": "markdown",
   "id": "43de5f5f",
   "metadata": {},
   "source": [
    "## ***<span style= \"color:#6AA121;\">Selection in Pandas </span>***"
   ]
  },
  {
   "cell_type": "code",
   "execution_count": null,
   "id": "da0b99e8",
   "metadata": {},
   "outputs": [],
   "source": []
  },
  {
   "cell_type": "markdown",
   "id": "8a1c526a",
   "metadata": {},
   "source": [
    "## ***<span style= \"color:#6AA121;\">Filtering in Pandas </span>***"
   ]
  },
  {
   "cell_type": "code",
   "execution_count": null,
   "id": "715aa60c",
   "metadata": {},
   "outputs": [],
   "source": []
  },
  {
   "cell_type": "markdown",
   "id": "4ce47ce9",
   "metadata": {},
   "source": [
    "## ***<span style= \"color:#6AA121;\">Aggregation in Pandas </span>***"
   ]
  },
  {
   "cell_type": "code",
   "execution_count": null,
   "id": "29a0cee7",
   "metadata": {},
   "outputs": [],
   "source": []
  },
  {
   "cell_type": "markdown",
   "id": "97f5d061",
   "metadata": {},
   "source": [
    "## ***<span style= \"color:#6AA121;\">Data cleaning in Pandas </span>***"
   ]
  },
  {
   "cell_type": "code",
   "execution_count": null,
   "id": "0c3608dc",
   "metadata": {},
   "outputs": [],
   "source": []
  }
 ],
 "metadata": {
  "kernelspec": {
   "display_name": "python_ml",
   "language": "python",
   "name": "python3"
  },
  "language_info": {
   "codemirror_mode": {
    "name": "ipython",
    "version": 3
   },
   "file_extension": ".py",
   "mimetype": "text/x-python",
   "name": "python",
   "nbconvert_exporter": "python",
   "pygments_lexer": "ipython3",
   "version": "3.11.11"
  }
 },
 "nbformat": 4,
 "nbformat_minor": 5
}
