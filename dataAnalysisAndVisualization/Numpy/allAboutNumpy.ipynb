{
 "cells": [
  {
   "cell_type": "markdown",
   "id": "99e23b56",
   "metadata": {},
   "source": [
    "# **<center><span style= \"color:#2F539B;\">All About Numpy</span></center>**"
   ]
  },
  {
   "cell_type": "markdown",
   "id": "a87437b1",
   "metadata": {},
   "source": [
    "## ***<span style= \"color:maroon;\">Content </span>***\n",
    "- ***`Imports`*** \n",
    "- **`Multidimensional arrays`** \n",
    "- **`Slicing`**\n",
    "- **`Arithmetic function`**\n",
    "- **`Numpy Broadcasting`**\n",
    "- **`Aggregate functions`**\n",
    "- **`Filtering in Numpy`**\n",
    "- **`Random numbers in Numpy`**"
   ]
  },
  {
   "cell_type": "markdown",
   "id": "fd3fe424",
   "metadata": {},
   "source": [
    "## ***<span style= \"color:purple;\">Imports </span>***"
   ]
  },
  {
   "cell_type": "code",
   "execution_count": null,
   "id": "19b2967b",
   "metadata": {},
   "outputs": [],
   "source": [
    "import numpy as np"
   ]
  },
  {
   "cell_type": "code",
   "execution_count": null,
   "id": "c8c5c778",
   "metadata": {},
   "outputs": [],
   "source": []
  },
  {
   "cell_type": "markdown",
   "id": "5c2aeefb",
   "metadata": {},
   "source": [
    "## ***<span style= \"color:#EE9A4D;\">Multidimensional arrays </span>***"
   ]
  },
  {
   "cell_type": "code",
   "execution_count": 2,
   "id": "2a9a30fb",
   "metadata": {},
   "outputs": [
    {
     "name": "stdout",
     "output_type": "stream",
     "text": [
      "[10 20 30 40 50]\n",
      "<class 'numpy.ndarray'>\n",
      "1\n",
      "5\n",
      "(5,)\n"
     ]
    }
   ],
   "source": [
    "# Creating a 1D array\n",
    "arr = np.array([10,20,30,40,50])\n",
    "print(arr)\n",
    "print(type(arr))\n",
    "print(arr.ndim)\n",
    "print(arr.size)\n",
    "print(arr.shape)"
   ]
  },
  {
   "cell_type": "code",
   "execution_count": 3,
   "id": "4dd42f5d",
   "metadata": {},
   "outputs": [
    {
     "name": "stdout",
     "output_type": "stream",
     "text": [
      "10\n",
      "20\n"
     ]
    }
   ],
   "source": [
    "#Accessing in 1D array\n",
    "print(arr[0])\n",
    "print(arr[1])"
   ]
  },
  {
   "cell_type": "code",
   "execution_count": 4,
   "id": "505f263d",
   "metadata": {},
   "outputs": [
    {
     "name": "stdout",
     "output_type": "stream",
     "text": [
      "[[10 20 30]\n",
      " [40 50 60]\n",
      " [70 80 90]]\n",
      "<class 'numpy.ndarray'>\n",
      "2\n",
      "9\n",
      "(3, 3)\n"
     ]
    }
   ],
   "source": [
    "# Creating a 2D array\n",
    "arr2D = np.array([[10,20,30],[40,50,60],[70,80,90]])\n",
    "print(arr2D)\n",
    "print(type(arr2D))\n",
    "print(arr2D.ndim)\n",
    "print(arr2D.size)\n",
    "print(arr2D.shape)"
   ]
  },
  {
   "cell_type": "code",
   "execution_count": 5,
   "id": "c166b65d",
   "metadata": {},
   "outputs": [
    {
     "name": "stdout",
     "output_type": "stream",
     "text": [
      "60\n",
      "70\n"
     ]
    }
   ],
   "source": [
    "#Accessing 2D array\n",
    "# Row x Column\n",
    "print(arr2D[1,2]) # Accessing element at 2nd row and 3rd column\n",
    "print(arr2D[2,0])"
   ]
  },
  {
   "cell_type": "code",
   "execution_count": 8,
   "id": "e7b5ca32",
   "metadata": {},
   "outputs": [
    {
     "name": "stdout",
     "output_type": "stream",
     "text": [
      "[[[ 10  20  30]\n",
      "  [ 40  50  60]\n",
      "  [ 70  80  90]]\n",
      "\n",
      " [[100 110 120]\n",
      "  [130 140 150]\n",
      "  [160 170 180]]\n",
      "\n",
      " [[190 200 210]\n",
      "  [220 230 240]\n",
      "  [250 260 270]]]\n"
     ]
    }
   ],
   "source": [
    "# Creating a 3D array\n",
    "# A 3D array = multiple 2D arrays (row X columns) stacked together\n",
    "\n",
    "arr3D = np.array([[[10,20,30],\n",
    "                   [40,50,60],\n",
    "                   [70,80,90]],\n",
    "\n",
    "                  [[100,110,120],\n",
    "                   [130,140,150],\n",
    "                   [160,170,180]],\n",
    "\n",
    "                   [[190,200,210],\n",
    "                    [220,230,240],\n",
    "                    [250,260,270]]])\n",
    "# 3 blocks, each block has 3 rows and 3 columns\n",
    "print(arr3D)"
   ]
  },
  {
   "cell_type": "code",
   "execution_count": 12,
   "id": "bff16952",
   "metadata": {},
   "outputs": [
    {
     "name": "stdout",
     "output_type": "stream",
     "text": [
      "50\n",
      "260\n"
     ]
    }
   ],
   "source": [
    "# Accessing 3D array\n",
    "# Block x Row X Column\n",
    "print(arr3D[0,1,1])\n",
    "print(arr3D[2,2,1])"
   ]
  },
  {
   "cell_type": "code",
   "execution_count": 13,
   "id": "093aa560",
   "metadata": {},
   "outputs": [
    {
     "name": "stdout",
     "output_type": "stream",
     "text": [
      "3\n",
      "27\n",
      "(3, 3, 3)\n"
     ]
    }
   ],
   "source": [
    "print(arr3D.ndim)\n",
    "print(arr3D.size)\n",
    "print(arr3D.shape)"
   ]
  },
  {
   "cell_type": "markdown",
   "id": "955d7155",
   "metadata": {},
   "source": [
    "## ***<span style= \"color:#EE9A4D;\">Slicing in Numpy </span>***"
   ]
  },
  {
   "cell_type": "code",
   "execution_count": 21,
   "id": "88773006",
   "metadata": {},
   "outputs": [
    {
     "name": "stdout",
     "output_type": "stream",
     "text": [
      "[10 20 30 40 50 60 70 80]\n"
     ]
    }
   ],
   "source": [
    "# Creating 1D array for slicing\n",
    "sliceArr = np.array([10,20,30,40,50,60,70,80])\n",
    "print(sliceArr)"
   ]
  },
  {
   "cell_type": "code",
   "execution_count": 24,
   "id": "d31c39f4",
   "metadata": {},
   "outputs": [
    {
     "name": "stdout",
     "output_type": "stream",
     "text": [
      "[20]\n",
      "[20 40]\n"
     ]
    }
   ],
   "source": [
    "# Accessing 1D array using slicing\n",
    "# arr[starting index: ending index: step]\n",
    "# starting index is inclusive, ending index is exclusive\n",
    "print(sliceArr[1:2])\n",
    "print(sliceArr[1:5:2])"
   ]
  },
  {
   "cell_type": "code",
   "execution_count": 25,
   "id": "bf4b2dd0",
   "metadata": {},
   "outputs": [
    {
     "name": "stdout",
     "output_type": "stream",
     "text": [
      "[[ 1  2  3  4]\n",
      " [ 5  6  7  8]\n",
      " [ 9 10 11 12]\n",
      " [13 14 15 16]]\n"
     ]
    }
   ],
   "source": [
    "# Creating 2D array for slicing\n",
    "sliceArr2D = np.array( [[1,2,3,4],\n",
    "                        [5,6,7,8],\n",
    "                        [9,10,11,12],\n",
    "                        [13,14,15,16]])\n",
    "print(sliceArr2D)"
   ]
  },
  {
   "cell_type": "code",
   "execution_count": null,
   "id": "d174d60b",
   "metadata": {},
   "outputs": [
    {
     "name": "stdout",
     "output_type": "stream",
     "text": [
      "[1 2 3 4]\n",
      "[[ 5  6  7  8]\n",
      " [ 9 10 11 12]]\n",
      "[ 1  5  9 13]\n",
      "[[ 6  7]\n",
      " [10 11]]\n"
     ]
    }
   ],
   "source": [
    "# Aaccessing 2D array using slicing\n",
    "\n",
    "# arr[starting index: ending index: step]\n",
    "# starting index is inclusive, ending index is exclusive\n",
    "# Just rows\n",
    "print(sliceArr2D[0])\n",
    "print(sliceArr2D[1:3])\n",
    "\n",
    "# Just columns\n",
    "print(sliceArr2D[:,0])\n",
    "\n",
    "# arr[row_start:row_end, col_start:col_end: step] \n",
    "# starting index is inclusive, ending index is exclusive\n",
    "# Rows and columns\n",
    "print(sliceArr2D[1:3, 1:3])"
   ]
  },
  {
   "cell_type": "code",
   "execution_count": 35,
   "id": "63a6a79d",
   "metadata": {},
   "outputs": [
    {
     "name": "stdout",
     "output_type": "stream",
     "text": [
      "[[[ 10  20  30]\n",
      "  [ 40  50  60]\n",
      "  [ 70  80  90]]\n",
      "\n",
      " [[100 110 120]\n",
      "  [130 140 150]\n",
      "  [160 170 180]]\n",
      "\n",
      " [[190 200 210]\n",
      "  [220 230 240]\n",
      "  [250 260 270]]]\n"
     ]
    }
   ],
   "source": [
    "# Creating 3D array for slicing\n",
    "sliceArr3D = np.array([[[10,20,30],\n",
    "                        [40,50,60],\n",
    "                        [70,80,90]],\n",
    "\n",
    "                        [[100,110,120],\n",
    "                         [130,140,150],\n",
    "                         [160,170,180]],\n",
    "                         \n",
    "                        [[190,200,210],\n",
    "                         [220,230,240],\n",
    "                         [250,260,270]]])\n",
    "print(sliceArr3D)"
   ]
  },
  {
   "cell_type": "code",
   "execution_count": null,
   "id": "acab29a4",
   "metadata": {},
   "outputs": [
    {
     "name": "stdout",
     "output_type": "stream",
     "text": [
      "[[130 140]\n",
      " [160 170]]\n"
     ]
    }
   ],
   "source": [
    "# Accessing 3D array\n",
    "# Block x Row x Column\n",
    "\n",
    "print(sliceArr3D[1, 1:,0:2 ])"
   ]
  },
  {
   "cell_type": "markdown",
   "id": "c3be25a0",
   "metadata": {},
   "source": [
    "## ***<span style= \"color:#EE9A4D;\">Arithmetic functions </span>***"
   ]
  },
  {
   "cell_type": "code",
   "execution_count": 42,
   "id": "85d61e0a",
   "metadata": {},
   "outputs": [],
   "source": [
    "aritharr = np.array([1,2,3])"
   ]
  },
  {
   "cell_type": "code",
   "execution_count": null,
   "id": "25712c3e",
   "metadata": {},
   "outputs": [
    {
     "name": "stdout",
     "output_type": "stream",
     "text": [
      "[6 7 8]\n",
      "[3 6 9]\n",
      "[ 1  8 27]\n"
     ]
    }
   ],
   "source": [
    "# Scalar operations\n",
    "print(aritharr + 5)\n",
    "print(aritharr * 3)\n",
    "print(aritharr ** 3)"
   ]
  },
  {
   "cell_type": "code",
   "execution_count": 47,
   "id": "00737de0",
   "metadata": {},
   "outputs": [
    {
     "name": "stdout",
     "output_type": "stream",
     "text": [
      "[1.         1.41421356 1.73205081]\n",
      "[1 2 3]\n"
     ]
    }
   ],
   "source": [
    "# Vectorized functions\n",
    "print(np.sqrt(aritharr))\n",
    "print(np.round(aritharr))"
   ]
  },
  {
   "cell_type": "markdown",
   "id": "d9545f80",
   "metadata": {},
   "source": [
    "## ***<span style= \"color:#EE9A4D;\">Broadcasting in Numpy </span>***"
   ]
  },
  {
   "cell_type": "markdown",
   "id": "8e85d8f6",
   "metadata": {},
   "source": [
    "#### Broadcasting allows Numpy to perform operations on arrays with different shapes virtually expanding dimensions so they match the larger array's shape.\n",
    "### Asumptions are\n",
    "\n",
    "#### The dimensions have the same size or One of the dimensions has a size of 1.\n",
    "#### arr1(4x3) + arr2(1x3) = result(4x3)"
   ]
  },
  {
   "cell_type": "code",
   "execution_count": 50,
   "id": "4e5e314f",
   "metadata": {},
   "outputs": [
    {
     "name": "stdout",
     "output_type": "stream",
     "text": [
      "(1, 4)\n",
      "(4, 1)\n"
     ]
    }
   ],
   "source": [
    "arr1 = np.array([[1,2,3,4]])\n",
    "arr2 = np.array([[1],[2],[3],[4]])\n",
    "#Both arrays have different shapes but have size of 1. So they can be broadcasted.\n",
    "print(arr1.shape)\n",
    "print(arr2.shape)"
   ]
  },
  {
   "cell_type": "code",
   "execution_count": 52,
   "id": "2d60d132",
   "metadata": {},
   "outputs": [
    {
     "name": "stdout",
     "output_type": "stream",
     "text": [
      "[[ 1  2  3  4]\n",
      " [ 2  4  6  8]\n",
      " [ 3  6  9 12]\n",
      " [ 4  8 12 16]]\n"
     ]
    }
   ],
   "source": [
    "# Broadcasting\n",
    "print(arr1*arr2)"
   ]
  },
  {
   "cell_type": "markdown",
   "id": "906bab97",
   "metadata": {},
   "source": [
    "## ***<span style= \"color:#EE9A4D;\">Aggregate fucntion </span>***"
   ]
  },
  {
   "cell_type": "code",
   "execution_count": 53,
   "id": "a2010c22",
   "metadata": {},
   "outputs": [
    {
     "name": "stdout",
     "output_type": "stream",
     "text": [
      "[[ 1  2  3  4  5]\n",
      " [ 6  7  8  9 10]]\n"
     ]
    }
   ],
   "source": [
    "aggarr = np.array([[1,2,3,4,5],\n",
    "                   [6,7,8,9,10]])\n",
    "\n",
    "print(aggarr)"
   ]
  },
  {
   "cell_type": "code",
   "execution_count": 60,
   "id": "48c8b9db",
   "metadata": {},
   "outputs": [
    {
     "name": "stdout",
     "output_type": "stream",
     "text": [
      "55\n",
      "5.5\n",
      "5.5\n",
      "1\n",
      "10\n",
      "0\n",
      "8.25\n",
      "2.8722813232690143\n"
     ]
    }
   ],
   "source": [
    "# Aggregate functions\n",
    "print(np.sum(aggarr))\n",
    "# Central tendency measures\n",
    "print(np.mean(aggarr))\n",
    "print(np.median(aggarr))\n",
    "\n",
    "# Dispersion measures\n",
    "print(np.min(aggarr))\n",
    "print(np.max(aggarr))\n",
    "print(np.argmin(aggarr))\n",
    "print(np.var(aggarr))\n",
    "print(np.std(aggarr))\n"
   ]
  },
  {
   "cell_type": "markdown",
   "id": "ad670deb",
   "metadata": {},
   "source": [
    "## ***<span style= \"color:#EE9A4D;\">Filtering in Numpy </span>***"
   ]
  },
  {
   "cell_type": "code",
   "execution_count": 72,
   "id": "81abdef6",
   "metadata": {},
   "outputs": [
    {
     "name": "stdout",
     "output_type": "stream",
     "text": [
      "[17 16 15]\n",
      "[21 19 20 30 39 22 19 20 21]\n"
     ]
    }
   ],
   "source": [
    "ageArr = np.array([[21,17,19,20,16,30,18,65],\n",
    "                   [39,22,15,99,18,19,20,21]])\n",
    "teenagers = ageArr[ageArr < 18].copy()\n",
    "print(teenagers)\n",
    "adults = ageArr[(ageArr > 18) & (ageArr < 65)].copy()\n",
    "\n",
    "print(adults)\n"
   ]
  },
  {
   "cell_type": "markdown",
   "id": "e68c68c4",
   "metadata": {},
   "source": [
    "## ***<span style= \"color:#EE9A4D;\">Random numbers in Numpy </span>***"
   ]
  },
  {
   "cell_type": "code",
   "execution_count": null,
   "id": "5f61020b",
   "metadata": {},
   "outputs": [],
   "source": [
    "rng = np.random.default_rng()"
   ]
  },
  {
   "cell_type": "code",
   "execution_count": 74,
   "id": "22f2178e",
   "metadata": {},
   "outputs": [
    {
     "name": "stdout",
     "output_type": "stream",
     "text": [
      "[[32 31 17 44]\n",
      " [35 43 17 47]\n",
      " [40 30 35 49]]\n"
     ]
    }
   ],
   "source": [
    "print(rng.integers(0,50, size=(3,4)))"
   ]
  },
  {
   "cell_type": "code",
   "execution_count": null,
   "id": "f3e88299",
   "metadata": {},
   "outputs": [],
   "source": []
  }
 ],
 "metadata": {
  "kernelspec": {
   "display_name": "python_ml",
   "language": "python",
   "name": "python3"
  },
  "language_info": {
   "codemirror_mode": {
    "name": "ipython",
    "version": 3
   },
   "file_extension": ".py",
   "mimetype": "text/x-python",
   "name": "python",
   "nbconvert_exporter": "python",
   "pygments_lexer": "ipython3",
   "version": "3.11.11"
  }
 },
 "nbformat": 4,
 "nbformat_minor": 5
}
